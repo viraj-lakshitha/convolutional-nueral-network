{
 "cells": [
  {
   "cell_type": "markdown",
   "metadata": {},
   "source": [
    "### Artificial Neural Network"
   ]
  },
  {
   "cell_type": "markdown",
   "metadata": {},
   "source": [
    "#### 1. Creating Dataset"
   ]
  },
  {
   "cell_type": "code",
   "execution_count": 1,
   "metadata": {},
   "outputs": [],
   "source": [
    "import numpy as np\n",
    "import matplotlib.pyplot as plt\n",
    "import pandas as pd"
   ]
  },
  {
   "cell_type": "code",
   "execution_count": 2,
   "metadata": {},
   "outputs": [],
   "source": [
    "# Importing Data Set\n",
    "dataset = pd.read_csv('Churn_Modelling.csv')\n",
    "x = dataset.iloc[:, 3:13] # Creating Independent Features\n",
    "y = dataset.iloc[:, 13] # Creating Dependent Feature"
   ]
  },
  {
   "cell_type": "code",
   "execution_count": 3,
   "metadata": {},
   "outputs": [
    {
     "data": {
      "text/html": [
       "<div>\n",
       "<style scoped>\n",
       "    .dataframe tbody tr th:only-of-type {\n",
       "        vertical-align: middle;\n",
       "    }\n",
       "\n",
       "    .dataframe tbody tr th {\n",
       "        vertical-align: top;\n",
       "    }\n",
       "\n",
       "    .dataframe thead th {\n",
       "        text-align: right;\n",
       "    }\n",
       "</style>\n",
       "<table border=\"1\" class=\"dataframe\">\n",
       "  <thead>\n",
       "    <tr style=\"text-align: right;\">\n",
       "      <th></th>\n",
       "      <th>RowNumber</th>\n",
       "      <th>CustomerId</th>\n",
       "      <th>Surname</th>\n",
       "      <th>CreditScore</th>\n",
       "      <th>Geography</th>\n",
       "      <th>Gender</th>\n",
       "      <th>Age</th>\n",
       "      <th>Tenure</th>\n",
       "      <th>Balance</th>\n",
       "      <th>NumOfProducts</th>\n",
       "      <th>HasCrCard</th>\n",
       "      <th>IsActiveMember</th>\n",
       "      <th>EstimatedSalary</th>\n",
       "      <th>Exited</th>\n",
       "    </tr>\n",
       "  </thead>\n",
       "  <tbody>\n",
       "    <tr>\n",
       "      <th>0</th>\n",
       "      <td>1</td>\n",
       "      <td>15634602</td>\n",
       "      <td>Hargrave</td>\n",
       "      <td>619</td>\n",
       "      <td>France</td>\n",
       "      <td>Female</td>\n",
       "      <td>42</td>\n",
       "      <td>2</td>\n",
       "      <td>0.00</td>\n",
       "      <td>1</td>\n",
       "      <td>1</td>\n",
       "      <td>1</td>\n",
       "      <td>101348.88</td>\n",
       "      <td>1</td>\n",
       "    </tr>\n",
       "    <tr>\n",
       "      <th>1</th>\n",
       "      <td>2</td>\n",
       "      <td>15647311</td>\n",
       "      <td>Hill</td>\n",
       "      <td>608</td>\n",
       "      <td>Spain</td>\n",
       "      <td>Female</td>\n",
       "      <td>41</td>\n",
       "      <td>1</td>\n",
       "      <td>83807.86</td>\n",
       "      <td>1</td>\n",
       "      <td>0</td>\n",
       "      <td>1</td>\n",
       "      <td>112542.58</td>\n",
       "      <td>0</td>\n",
       "    </tr>\n",
       "  </tbody>\n",
       "</table>\n",
       "</div>"
      ],
      "text/plain": [
       "   RowNumber  CustomerId   Surname  CreditScore Geography  Gender  Age  \\\n",
       "0          1    15634602  Hargrave          619    France  Female   42   \n",
       "1          2    15647311      Hill          608     Spain  Female   41   \n",
       "\n",
       "   Tenure   Balance  NumOfProducts  HasCrCard  IsActiveMember  \\\n",
       "0       2      0.00              1          1               1   \n",
       "1       1  83807.86              1          0               1   \n",
       "\n",
       "   EstimatedSalary  Exited  \n",
       "0        101348.88       1  \n",
       "1        112542.58       0  "
      ]
     },
     "execution_count": 3,
     "metadata": {},
     "output_type": "execute_result"
    }
   ],
   "source": [
    "dataset.head(2)"
   ]
  },
  {
   "cell_type": "code",
   "execution_count": 4,
   "metadata": {},
   "outputs": [
    {
     "data": {
      "text/plain": [
       "140000"
      ]
     },
     "execution_count": 4,
     "metadata": {},
     "output_type": "execute_result"
    }
   ],
   "source": [
    "dataset.size"
   ]
  },
  {
   "cell_type": "code",
   "execution_count": 5,
   "metadata": {},
   "outputs": [],
   "source": [
    "# Creating Dummy Dataset (Convert all the values to integer as 1,0)\n",
    "geography = pd.get_dummies(x[\"Geography\"],drop_first=True)\n",
    "gender = pd.get_dummies(x[\"Gender\"],drop_first=True)"
   ]
  },
  {
   "cell_type": "code",
   "execution_count": 6,
   "metadata": {},
   "outputs": [],
   "source": [
    "# Concatenate the 'geography and gender'\n",
    "x = pd.concat([x,geography,gender],axis=1)"
   ]
  },
  {
   "cell_type": "code",
   "execution_count": 7,
   "metadata": {},
   "outputs": [],
   "source": [
    "# Drop previous 'geography and gender'\n",
    "x = x.drop(['Geography','Gender'],axis=1)"
   ]
  },
  {
   "cell_type": "code",
   "execution_count": 8,
   "metadata": {},
   "outputs": [
    {
     "data": {
      "text/plain": [
       "True"
      ]
     },
     "execution_count": 8,
     "metadata": {},
     "output_type": "execute_result"
    }
   ],
   "source": [
    "# dataset.head(2)\n",
    "y.size == (x.size)/11"
   ]
  },
  {
   "cell_type": "code",
   "execution_count": 9,
   "metadata": {},
   "outputs": [],
   "source": [
    "# Spliting data into training and testing\n",
    "from sklearn.model_selection import train_test_split\n",
    "x_train, x_test, y_train, y_test = train_test_split(x, y, test_size = 0.2, random_state = 0)"
   ]
  },
  {
   "cell_type": "code",
   "execution_count": 10,
   "metadata": {},
   "outputs": [
    {
     "name": "stdout",
     "output_type": "stream",
     "text": [
      "x_train: 8000.0\n",
      "x_test: 2000.0\n",
      "y_train: 8000\n",
      "y_test: 2000\n"
     ]
    }
   ],
   "source": [
    "print('x_train:',x_train.size/11) # Because of 1 Features\n",
    "print('x_test:',x_test.size/11)\n",
    "print('y_train:',y_train.size)\n",
    "print('y_test:',y_test.size)"
   ]
  },
  {
   "cell_type": "code",
   "execution_count": 11,
   "metadata": {},
   "outputs": [],
   "source": [
    "# Feature Scaling\n",
    "from sklearn.preprocessing import StandardScaler\n",
    "sc = StandardScaler()\n",
    "x_train = sc.fit_transform(x_train)\n",
    "x_test = sc.transform(x_test)"
   ]
  },
  {
   "cell_type": "code",
   "execution_count": 12,
   "metadata": {},
   "outputs": [
    {
     "data": {
      "text/plain": [
       "2000"
      ]
     },
     "execution_count": 12,
     "metadata": {},
     "output_type": "execute_result"
    }
   ],
   "source": [
    "y_test.size"
   ]
  },
  {
   "cell_type": "markdown",
   "metadata": {},
   "source": [
    "#### 2. Create Artificial Neural Network"
   ]
  },
  {
   "cell_type": "code",
   "execution_count": 13,
   "metadata": {},
   "outputs": [],
   "source": [
    "# Import Keras Libraries and Packages\n",
    "import keras\n",
    "from keras.models import Sequential # Responsible in creating neural networks\n",
    "from keras.layers import Dense # Used to create hidden layers\n",
    "from keras.layers import LeakyReLU,PReLU,ELU # Activation Functions\n",
    "from keras.layers import Dropout # Regularization parameter"
   ]
  },
  {
   "cell_type": "code",
   "execution_count": 14,
   "metadata": {},
   "outputs": [],
   "source": [
    "# Initilize Sequential Function\n",
    "classifier = Sequential()"
   ]
  },
  {
   "cell_type": "code",
   "execution_count": 15,
   "metadata": {},
   "outputs": [],
   "source": [
    "# Adding the input layer and first hidden layer\n",
    "# input_dim = 11 because accoding to dataset 11 features are connected\n",
    "classifier.add(Dense(units = 6, kernel_initializer = 'he_uniform', activation = 'relu', input_dim = 11))"
   ]
  },
  {
   "cell_type": "code",
   "execution_count": 16,
   "metadata": {},
   "outputs": [],
   "source": [
    "# Adding the second hidden layer\n",
    "classifier.add(Dense(units = 6, kernel_initializer = 'he_uniform', activation = 'relu'))"
   ]
  },
  {
   "cell_type": "code",
   "execution_count": 17,
   "metadata": {},
   "outputs": [],
   "source": [
    "# Adding the output layer\n",
    "# units = output_dim = 1, because of binary classification\n",
    "classifier.add(Dense(units = 1, kernel_initializer = 'glorot_uniform', activation = 'sigmoid'))"
   ]
  },
  {
   "cell_type": "code",
   "execution_count": 18,
   "metadata": {},
   "outputs": [
    {
     "name": "stdout",
     "output_type": "stream",
     "text": [
      "Model: \"sequential\"\n",
      "_________________________________________________________________\n",
      "Layer (type)                 Output Shape              Param #   \n",
      "=================================================================\n",
      "dense (Dense)                (None, 6)                 72        \n",
      "_________________________________________________________________\n",
      "dense_1 (Dense)              (None, 6)                 42        \n",
      "_________________________________________________________________\n",
      "dense_2 (Dense)              (None, 1)                 7         \n",
      "=================================================================\n",
      "Total params: 121\n",
      "Trainable params: 121\n",
      "Non-trainable params: 0\n",
      "_________________________________________________________________\n"
     ]
    }
   ],
   "source": [
    "classifier.summary()"
   ]
  },
  {
   "cell_type": "code",
   "execution_count": 19,
   "metadata": {},
   "outputs": [],
   "source": [
    "# Compiling the artificial neural network\n",
    "classifier.compile(optimizer = 'adam', loss = 'binary_crossentropy', metrics = [\"accuracy\"])"
   ]
  },
  {
   "cell_type": "code",
   "execution_count": 20,
   "metadata": {},
   "outputs": [
    {
     "name": "stdout",
     "output_type": "stream",
     "text": [
      "Epoch 1/100\n",
      "640/640 [==============================] - 1s 884us/step - loss: 0.5441 - accuracy: 0.7458 - val_loss: 0.4766 - val_accuracy: 0.7969\n",
      "Epoch 2/100\n",
      "640/640 [==============================] - 0s 663us/step - loss: 0.4586 - accuracy: 0.7959 - val_loss: 0.4475 - val_accuracy: 0.8012\n",
      "Epoch 3/100\n",
      "640/640 [==============================] - 0s 648us/step - loss: 0.4313 - accuracy: 0.8120 - val_loss: 0.4255 - val_accuracy: 0.8225\n",
      "Epoch 4/100\n",
      "640/640 [==============================] - 0s 648us/step - loss: 0.4151 - accuracy: 0.8259 - val_loss: 0.4166 - val_accuracy: 0.8256\n",
      "Epoch 5/100\n",
      "640/640 [==============================] - 0s 669us/step - loss: 0.4075 - accuracy: 0.8305 - val_loss: 0.4131 - val_accuracy: 0.8213\n",
      "Epoch 6/100\n",
      "640/640 [==============================] - 0s 676us/step - loss: 0.4030 - accuracy: 0.8306 - val_loss: 0.4090 - val_accuracy: 0.8256\n",
      "Epoch 7/100\n",
      "640/640 [==============================] - 0s 733us/step - loss: 0.3994 - accuracy: 0.8303 - val_loss: 0.4075 - val_accuracy: 0.8256\n",
      "Epoch 8/100\n",
      "640/640 [==============================] - 0s 645us/step - loss: 0.3966 - accuracy: 0.8308 - val_loss: 0.4028 - val_accuracy: 0.8288\n",
      "Epoch 9/100\n",
      "640/640 [==============================] - 0s 664us/step - loss: 0.3940 - accuracy: 0.8322 - val_loss: 0.4006 - val_accuracy: 0.8294\n",
      "Epoch 10/100\n",
      "640/640 [==============================] - 0s 667us/step - loss: 0.3912 - accuracy: 0.8300 - val_loss: 0.3981 - val_accuracy: 0.8294\n",
      "Epoch 11/100\n",
      "640/640 [==============================] - 0s 670us/step - loss: 0.3886 - accuracy: 0.8309 - val_loss: 0.3951 - val_accuracy: 0.8325\n",
      "Epoch 12/100\n",
      "640/640 [==============================] - 0s 652us/step - loss: 0.3859 - accuracy: 0.8319 - val_loss: 0.3931 - val_accuracy: 0.8325\n",
      "Epoch 13/100\n",
      "640/640 [==============================] - 0s 646us/step - loss: 0.3823 - accuracy: 0.8372 - val_loss: 0.3907 - val_accuracy: 0.8394\n",
      "Epoch 14/100\n",
      "640/640 [==============================] - 0s 663us/step - loss: 0.3786 - accuracy: 0.8411 - val_loss: 0.3856 - val_accuracy: 0.8425\n",
      "Epoch 15/100\n",
      "640/640 [==============================] - 0s 655us/step - loss: 0.3746 - accuracy: 0.8459 - val_loss: 0.3831 - val_accuracy: 0.8406\n",
      "Epoch 16/100\n",
      "640/640 [==============================] - 0s 645us/step - loss: 0.3697 - accuracy: 0.8473 - val_loss: 0.3786 - val_accuracy: 0.8438\n",
      "Epoch 17/100\n",
      "640/640 [==============================] - 0s 654us/step - loss: 0.3659 - accuracy: 0.8525 - val_loss: 0.3765 - val_accuracy: 0.8456\n",
      "Epoch 18/100\n",
      "640/640 [==============================] - 0s 651us/step - loss: 0.3629 - accuracy: 0.8500 - val_loss: 0.3732 - val_accuracy: 0.8462\n",
      "Epoch 19/100\n",
      "640/640 [==============================] - 0s 662us/step - loss: 0.3598 - accuracy: 0.8509 - val_loss: 0.3706 - val_accuracy: 0.8481\n",
      "Epoch 20/100\n",
      "640/640 [==============================] - 0s 651us/step - loss: 0.3573 - accuracy: 0.8537 - val_loss: 0.3694 - val_accuracy: 0.8487\n",
      "Epoch 21/100\n",
      "640/640 [==============================] - 0s 656us/step - loss: 0.3550 - accuracy: 0.8536 - val_loss: 0.3680 - val_accuracy: 0.8487\n",
      "Epoch 22/100\n",
      "640/640 [==============================] - 0s 677us/step - loss: 0.3525 - accuracy: 0.8566 - val_loss: 0.3683 - val_accuracy: 0.8500\n",
      "Epoch 23/100\n",
      "640/640 [==============================] - 0s 674us/step - loss: 0.3515 - accuracy: 0.8580 - val_loss: 0.3672 - val_accuracy: 0.8469\n",
      "Epoch 24/100\n",
      "640/640 [==============================] - 0s 671us/step - loss: 0.3500 - accuracy: 0.8578 - val_loss: 0.3659 - val_accuracy: 0.8494\n",
      "Epoch 25/100\n",
      "640/640 [==============================] - 0s 649us/step - loss: 0.3491 - accuracy: 0.8598 - val_loss: 0.3655 - val_accuracy: 0.8475\n",
      "Epoch 26/100\n",
      "640/640 [==============================] - 0s 675us/step - loss: 0.3476 - accuracy: 0.8591 - val_loss: 0.3650 - val_accuracy: 0.8487\n",
      "Epoch 27/100\n",
      "640/640 [==============================] - 0s 652us/step - loss: 0.3463 - accuracy: 0.8592 - val_loss: 0.3643 - val_accuracy: 0.8506\n",
      "Epoch 28/100\n",
      "640/640 [==============================] - 0s 669us/step - loss: 0.3458 - accuracy: 0.8611 - val_loss: 0.3628 - val_accuracy: 0.8506\n",
      "Epoch 29/100\n",
      "640/640 [==============================] - 0s 683us/step - loss: 0.3438 - accuracy: 0.8631 - val_loss: 0.3618 - val_accuracy: 0.8506\n",
      "Epoch 30/100\n",
      "640/640 [==============================] - 0s 641us/step - loss: 0.3434 - accuracy: 0.8614 - val_loss: 0.3606 - val_accuracy: 0.8487\n",
      "Epoch 31/100\n",
      "640/640 [==============================] - 0s 666us/step - loss: 0.3421 - accuracy: 0.8625 - val_loss: 0.3602 - val_accuracy: 0.8506\n",
      "Epoch 32/100\n",
      "640/640 [==============================] - 0s 657us/step - loss: 0.3405 - accuracy: 0.8628 - val_loss: 0.3611 - val_accuracy: 0.8512\n",
      "Epoch 33/100\n",
      "640/640 [==============================] - 0s 677us/step - loss: 0.3399 - accuracy: 0.8631 - val_loss: 0.3589 - val_accuracy: 0.8531\n",
      "Epoch 34/100\n",
      "640/640 [==============================] - 0s 647us/step - loss: 0.3393 - accuracy: 0.8630 - val_loss: 0.3589 - val_accuracy: 0.8550\n",
      "Epoch 35/100\n",
      "640/640 [==============================] - 0s 659us/step - loss: 0.3384 - accuracy: 0.8639 - val_loss: 0.3582 - val_accuracy: 0.8556\n",
      "Epoch 36/100\n",
      "640/640 [==============================] - 0s 672us/step - loss: 0.3379 - accuracy: 0.8648 - val_loss: 0.3587 - val_accuracy: 0.8562\n",
      "Epoch 37/100\n",
      "640/640 [==============================] - 0s 681us/step - loss: 0.3377 - accuracy: 0.8636 - val_loss: 0.3586 - val_accuracy: 0.8537\n",
      "Epoch 38/100\n",
      "640/640 [==============================] - 0s 674us/step - loss: 0.3368 - accuracy: 0.8627 - val_loss: 0.3581 - val_accuracy: 0.8531\n",
      "Epoch 39/100\n",
      "640/640 [==============================] - 0s 654us/step - loss: 0.3370 - accuracy: 0.8653 - val_loss: 0.3586 - val_accuracy: 0.8550\n",
      "Epoch 40/100\n",
      "640/640 [==============================] - 0s 673us/step - loss: 0.3360 - accuracy: 0.8634 - val_loss: 0.3584 - val_accuracy: 0.8519\n",
      "Epoch 41/100\n",
      "640/640 [==============================] - 0s 670us/step - loss: 0.3366 - accuracy: 0.8620 - val_loss: 0.3578 - val_accuracy: 0.8544\n",
      "Epoch 42/100\n",
      "640/640 [==============================] - 0s 671us/step - loss: 0.3359 - accuracy: 0.8644 - val_loss: 0.3579 - val_accuracy: 0.8531\n",
      "Epoch 43/100\n",
      "640/640 [==============================] - 0s 668us/step - loss: 0.3361 - accuracy: 0.8650 - val_loss: 0.3565 - val_accuracy: 0.8550\n",
      "Epoch 44/100\n",
      "640/640 [==============================] - 0s 671us/step - loss: 0.3354 - accuracy: 0.8634 - val_loss: 0.3577 - val_accuracy: 0.8537\n",
      "Epoch 45/100\n",
      "640/640 [==============================] - 0s 675us/step - loss: 0.3350 - accuracy: 0.8634 - val_loss: 0.3589 - val_accuracy: 0.8581\n",
      "Epoch 46/100\n",
      "640/640 [==============================] - 0s 653us/step - loss: 0.3350 - accuracy: 0.8633 - val_loss: 0.3579 - val_accuracy: 0.8562\n",
      "Epoch 47/100\n",
      "640/640 [==============================] - 0s 661us/step - loss: 0.3345 - accuracy: 0.8633 - val_loss: 0.3593 - val_accuracy: 0.8550\n",
      "Epoch 48/100\n",
      "640/640 [==============================] - 0s 679us/step - loss: 0.3346 - accuracy: 0.8645 - val_loss: 0.3597 - val_accuracy: 0.8531\n",
      "Epoch 49/100\n",
      "640/640 [==============================] - 0s 656us/step - loss: 0.3348 - accuracy: 0.8628 - val_loss: 0.3570 - val_accuracy: 0.8556\n",
      "Epoch 50/100\n",
      "640/640 [==============================] - 0s 656us/step - loss: 0.3346 - accuracy: 0.8622 - val_loss: 0.3566 - val_accuracy: 0.8537\n",
      "Epoch 51/100\n",
      "640/640 [==============================] - 0s 653us/step - loss: 0.3342 - accuracy: 0.8627 - val_loss: 0.3582 - val_accuracy: 0.8550\n",
      "Epoch 52/100\n",
      "640/640 [==============================] - 0s 667us/step - loss: 0.3337 - accuracy: 0.8609 - val_loss: 0.3568 - val_accuracy: 0.8544\n",
      "Epoch 53/100\n",
      "640/640 [==============================] - 0s 672us/step - loss: 0.3337 - accuracy: 0.8630 - val_loss: 0.3583 - val_accuracy: 0.8525\n",
      "Epoch 54/100\n",
      "640/640 [==============================] - 0s 675us/step - loss: 0.3338 - accuracy: 0.8633 - val_loss: 0.3583 - val_accuracy: 0.8544\n",
      "Epoch 55/100\n",
      "640/640 [==============================] - 0s 669us/step - loss: 0.3337 - accuracy: 0.8614 - val_loss: 0.3585 - val_accuracy: 0.8531\n",
      "Epoch 56/100\n",
      "640/640 [==============================] - 0s 681us/step - loss: 0.3335 - accuracy: 0.8630 - val_loss: 0.3573 - val_accuracy: 0.8537\n",
      "Epoch 57/100\n"
     ]
    },
    {
     "name": "stdout",
     "output_type": "stream",
     "text": [
      "640/640 [==============================] - 0s 681us/step - loss: 0.3335 - accuracy: 0.8622 - val_loss: 0.3587 - val_accuracy: 0.8519\n",
      "Epoch 58/100\n",
      "640/640 [==============================] - 0s 645us/step - loss: 0.3333 - accuracy: 0.8620 - val_loss: 0.3588 - val_accuracy: 0.8506\n",
      "Epoch 59/100\n",
      "640/640 [==============================] - 0s 616us/step - loss: 0.3327 - accuracy: 0.8633 - val_loss: 0.3561 - val_accuracy: 0.8556\n",
      "Epoch 60/100\n",
      "640/640 [==============================] - 0s 599us/step - loss: 0.3331 - accuracy: 0.8627 - val_loss: 0.3567 - val_accuracy: 0.8500\n",
      "Epoch 61/100\n",
      "640/640 [==============================] - 0s 671us/step - loss: 0.3326 - accuracy: 0.8645 - val_loss: 0.3569 - val_accuracy: 0.8550\n",
      "Epoch 62/100\n",
      "640/640 [==============================] - 0s 651us/step - loss: 0.3326 - accuracy: 0.8637 - val_loss: 0.3574 - val_accuracy: 0.8512\n",
      "Epoch 63/100\n",
      "640/640 [==============================] - 0s 620us/step - loss: 0.3322 - accuracy: 0.8603 - val_loss: 0.3573 - val_accuracy: 0.8531\n",
      "Epoch 64/100\n",
      "640/640 [==============================] - 0s 639us/step - loss: 0.3320 - accuracy: 0.8617 - val_loss: 0.3567 - val_accuracy: 0.8537\n",
      "Epoch 65/100\n",
      "640/640 [==============================] - 0s 639us/step - loss: 0.3320 - accuracy: 0.8628 - val_loss: 0.3554 - val_accuracy: 0.8569\n",
      "Epoch 66/100\n",
      "640/640 [==============================] - 0s 615us/step - loss: 0.3319 - accuracy: 0.8631 - val_loss: 0.3583 - val_accuracy: 0.8512\n",
      "Epoch 67/100\n",
      "640/640 [==============================] - 0s 623us/step - loss: 0.3313 - accuracy: 0.8639 - val_loss: 0.3601 - val_accuracy: 0.8525\n",
      "Epoch 68/100\n",
      "640/640 [==============================] - 0s 623us/step - loss: 0.3325 - accuracy: 0.8605 - val_loss: 0.3563 - val_accuracy: 0.8550\n",
      "Epoch 69/100\n",
      "640/640 [==============================] - 0s 635us/step - loss: 0.3316 - accuracy: 0.8627 - val_loss: 0.3578 - val_accuracy: 0.8512\n",
      "Epoch 70/100\n",
      "640/640 [==============================] - 0s 629us/step - loss: 0.3315 - accuracy: 0.8608 - val_loss: 0.3573 - val_accuracy: 0.8500\n",
      "Epoch 71/100\n",
      "640/640 [==============================] - 0s 649us/step - loss: 0.3317 - accuracy: 0.8627 - val_loss: 0.3596 - val_accuracy: 0.8519\n",
      "Epoch 72/100\n",
      "640/640 [==============================] - 0s 641us/step - loss: 0.3313 - accuracy: 0.8605 - val_loss: 0.3571 - val_accuracy: 0.8519\n",
      "Epoch 73/100\n",
      "640/640 [==============================] - 0s 637us/step - loss: 0.3316 - accuracy: 0.8645 - val_loss: 0.3561 - val_accuracy: 0.8544\n",
      "Epoch 74/100\n",
      "640/640 [==============================] - 0s 634us/step - loss: 0.3302 - accuracy: 0.8620 - val_loss: 0.3603 - val_accuracy: 0.8469\n",
      "Epoch 75/100\n",
      "640/640 [==============================] - 0s 641us/step - loss: 0.3320 - accuracy: 0.8625 - val_loss: 0.3578 - val_accuracy: 0.8537\n",
      "Epoch 76/100\n",
      "640/640 [==============================] - 0s 642us/step - loss: 0.3314 - accuracy: 0.8617 - val_loss: 0.3589 - val_accuracy: 0.8544\n",
      "Epoch 77/100\n",
      "640/640 [==============================] - 0s 653us/step - loss: 0.3315 - accuracy: 0.8605 - val_loss: 0.3583 - val_accuracy: 0.8544\n",
      "Epoch 78/100\n",
      "640/640 [==============================] - 0s 631us/step - loss: 0.3311 - accuracy: 0.8608 - val_loss: 0.3593 - val_accuracy: 0.8556\n",
      "Epoch 79/100\n",
      "640/640 [==============================] - 0s 632us/step - loss: 0.3310 - accuracy: 0.8623 - val_loss: 0.3583 - val_accuracy: 0.8525\n",
      "Epoch 80/100\n",
      "640/640 [==============================] - 0s 648us/step - loss: 0.3308 - accuracy: 0.8612 - val_loss: 0.3579 - val_accuracy: 0.8531\n",
      "Epoch 81/100\n",
      "640/640 [==============================] - 0s 649us/step - loss: 0.3310 - accuracy: 0.8616 - val_loss: 0.3569 - val_accuracy: 0.8569\n",
      "Epoch 82/100\n",
      "640/640 [==============================] - 0s 657us/step - loss: 0.3310 - accuracy: 0.8622 - val_loss: 0.3582 - val_accuracy: 0.8519\n",
      "Epoch 83/100\n",
      "640/640 [==============================] - 0s 640us/step - loss: 0.3306 - accuracy: 0.8630 - val_loss: 0.3570 - val_accuracy: 0.8581\n",
      "Epoch 84/100\n",
      "640/640 [==============================] - 0s 628us/step - loss: 0.3302 - accuracy: 0.8625 - val_loss: 0.3596 - val_accuracy: 0.8575\n",
      "Epoch 85/100\n",
      "640/640 [==============================] - 0s 639us/step - loss: 0.3301 - accuracy: 0.8612 - val_loss: 0.3586 - val_accuracy: 0.8569\n",
      "Epoch 86/100\n",
      "640/640 [==============================] - 0s 619us/step - loss: 0.3311 - accuracy: 0.8630 - val_loss: 0.3579 - val_accuracy: 0.8556\n",
      "Epoch 87/100\n",
      "640/640 [==============================] - 0s 648us/step - loss: 0.3306 - accuracy: 0.8623 - val_loss: 0.3596 - val_accuracy: 0.8544\n",
      "Epoch 88/100\n",
      "640/640 [==============================] - 0s 647us/step - loss: 0.3306 - accuracy: 0.8633 - val_loss: 0.3569 - val_accuracy: 0.8569\n",
      "Epoch 89/100\n",
      "640/640 [==============================] - 0s 621us/step - loss: 0.3305 - accuracy: 0.8603 - val_loss: 0.3577 - val_accuracy: 0.8575\n",
      "Epoch 90/100\n",
      "640/640 [==============================] - 0s 645us/step - loss: 0.3309 - accuracy: 0.8611 - val_loss: 0.3584 - val_accuracy: 0.8525\n",
      "Epoch 91/100\n",
      "640/640 [==============================] - 0s 637us/step - loss: 0.3304 - accuracy: 0.8637 - val_loss: 0.3575 - val_accuracy: 0.8537\n",
      "Epoch 92/100\n",
      "640/640 [==============================] - 0s 648us/step - loss: 0.3303 - accuracy: 0.8622 - val_loss: 0.3596 - val_accuracy: 0.8569\n",
      "Epoch 93/100\n",
      "640/640 [==============================] - 0s 636us/step - loss: 0.3306 - accuracy: 0.8630 - val_loss: 0.3581 - val_accuracy: 0.8569\n",
      "Epoch 94/100\n",
      "640/640 [==============================] - 0s 634us/step - loss: 0.3302 - accuracy: 0.8622 - val_loss: 0.3609 - val_accuracy: 0.8569\n",
      "Epoch 95/100\n",
      "640/640 [==============================] - 0s 681us/step - loss: 0.3300 - accuracy: 0.8625 - val_loss: 0.3578 - val_accuracy: 0.8569\n",
      "Epoch 96/100\n",
      "640/640 [==============================] - 0s 640us/step - loss: 0.3304 - accuracy: 0.8617 - val_loss: 0.3571 - val_accuracy: 0.8544\n",
      "Epoch 97/100\n",
      "640/640 [==============================] - 0s 651us/step - loss: 0.3300 - accuracy: 0.8639 - val_loss: 0.3601 - val_accuracy: 0.8525\n",
      "Epoch 98/100\n",
      "640/640 [==============================] - 0s 627us/step - loss: 0.3300 - accuracy: 0.8627 - val_loss: 0.3580 - val_accuracy: 0.8600\n",
      "Epoch 99/100\n",
      "640/640 [==============================] - 0s 646us/step - loss: 0.3299 - accuracy: 0.8625 - val_loss: 0.3581 - val_accuracy: 0.8525\n",
      "Epoch 100/100\n",
      "640/640 [==============================] - 0s 639us/step - loss: 0.3302 - accuracy: 0.8620 - val_loss: 0.3576 - val_accuracy: 0.8581\n"
     ]
    }
   ],
   "source": [
    "# Fitting the neural network to the training dataset\n",
    "# nb_epoch ---> epochs (Updated!)\n",
    "model_history = classifier.fit(x_train, y_train, validation_split = 0.2, batch_size = 10, epochs = 100)"
   ]
  },
  {
   "cell_type": "markdown",
   "metadata": {},
   "source": [
    "#### Making Prediction and Evaluate the model"
   ]
  },
  {
   "cell_type": "code",
   "execution_count": 21,
   "metadata": {},
   "outputs": [],
   "source": [
    "y_predict = classifier.predict(x_test)\n",
    "y_predict = (y > 0.5)"
   ]
  },
  {
   "cell_type": "code",
   "execution_count": 22,
   "metadata": {
    "scrolled": true
   },
   "outputs": [
    {
     "data": {
      "text/plain": [
       "0        True\n",
       "1       False\n",
       "2        True\n",
       "3       False\n",
       "4       False\n",
       "        ...  \n",
       "9995    False\n",
       "9996    False\n",
       "9997     True\n",
       "9998     True\n",
       "9999    False\n",
       "Name: Exited, Length: 10000, dtype: bool"
      ]
     },
     "execution_count": 22,
     "metadata": {},
     "output_type": "execute_result"
    }
   ],
   "source": [
    "y_predict"
   ]
  },
  {
   "cell_type": "code",
   "execution_count": 23,
   "metadata": {
    "scrolled": false
   },
   "outputs": [
    {
     "ename": "ValueError",
     "evalue": "Found input variables with inconsistent numbers of samples: [2000, 10000]",
     "output_type": "error",
     "traceback": [
      "\u001b[1;31m---------------------------------------------------------------------------\u001b[0m",
      "\u001b[1;31mValueError\u001b[0m                                Traceback (most recent call last)",
      "\u001b[1;32m<ipython-input-23-9fe55ba8f527>\u001b[0m in \u001b[0;36m<module>\u001b[1;34m\u001b[0m\n\u001b[0;32m      1\u001b[0m \u001b[1;31m# Making a confusion matrix\u001b[0m\u001b[1;33m\u001b[0m\u001b[1;33m\u001b[0m\u001b[1;33m\u001b[0m\u001b[0m\n\u001b[0;32m      2\u001b[0m \u001b[1;32mfrom\u001b[0m \u001b[0msklearn\u001b[0m\u001b[1;33m.\u001b[0m\u001b[0mmetrics\u001b[0m \u001b[1;32mimport\u001b[0m \u001b[0mconfusion_matrix\u001b[0m\u001b[1;33m\u001b[0m\u001b[1;33m\u001b[0m\u001b[0m\n\u001b[1;32m----> 3\u001b[1;33m \u001b[0mcm\u001b[0m \u001b[1;33m=\u001b[0m \u001b[0mconfusion_matrix\u001b[0m\u001b[1;33m(\u001b[0m\u001b[0my_test\u001b[0m\u001b[1;33m,\u001b[0m \u001b[0my_predict\u001b[0m\u001b[1;33m)\u001b[0m\u001b[1;33m\u001b[0m\u001b[1;33m\u001b[0m\u001b[0m\n\u001b[0m",
      "\u001b[1;32mC:\\ProgramData\\Anaconda3\\lib\\site-packages\\sklearn\\utils\\validation.py\u001b[0m in \u001b[0;36minner_f\u001b[1;34m(*args, **kwargs)\u001b[0m\n\u001b[0;32m     71\u001b[0m                           FutureWarning)\n\u001b[0;32m     72\u001b[0m         \u001b[0mkwargs\u001b[0m\u001b[1;33m.\u001b[0m\u001b[0mupdate\u001b[0m\u001b[1;33m(\u001b[0m\u001b[1;33m{\u001b[0m\u001b[0mk\u001b[0m\u001b[1;33m:\u001b[0m \u001b[0marg\u001b[0m \u001b[1;32mfor\u001b[0m \u001b[0mk\u001b[0m\u001b[1;33m,\u001b[0m \u001b[0marg\u001b[0m \u001b[1;32min\u001b[0m \u001b[0mzip\u001b[0m\u001b[1;33m(\u001b[0m\u001b[0msig\u001b[0m\u001b[1;33m.\u001b[0m\u001b[0mparameters\u001b[0m\u001b[1;33m,\u001b[0m \u001b[0margs\u001b[0m\u001b[1;33m)\u001b[0m\u001b[1;33m}\u001b[0m\u001b[1;33m)\u001b[0m\u001b[1;33m\u001b[0m\u001b[1;33m\u001b[0m\u001b[0m\n\u001b[1;32m---> 73\u001b[1;33m         \u001b[1;32mreturn\u001b[0m \u001b[0mf\u001b[0m\u001b[1;33m(\u001b[0m\u001b[1;33m**\u001b[0m\u001b[0mkwargs\u001b[0m\u001b[1;33m)\u001b[0m\u001b[1;33m\u001b[0m\u001b[1;33m\u001b[0m\u001b[0m\n\u001b[0m\u001b[0;32m     74\u001b[0m     \u001b[1;32mreturn\u001b[0m \u001b[0minner_f\u001b[0m\u001b[1;33m\u001b[0m\u001b[1;33m\u001b[0m\u001b[0m\n\u001b[0;32m     75\u001b[0m \u001b[1;33m\u001b[0m\u001b[0m\n",
      "\u001b[1;32mC:\\ProgramData\\Anaconda3\\lib\\site-packages\\sklearn\\metrics\\_classification.py\u001b[0m in \u001b[0;36mconfusion_matrix\u001b[1;34m(y_true, y_pred, labels, sample_weight, normalize)\u001b[0m\n\u001b[0;32m    274\u001b[0m \u001b[1;33m\u001b[0m\u001b[0m\n\u001b[0;32m    275\u001b[0m     \"\"\"\n\u001b[1;32m--> 276\u001b[1;33m     \u001b[0my_type\u001b[0m\u001b[1;33m,\u001b[0m \u001b[0my_true\u001b[0m\u001b[1;33m,\u001b[0m \u001b[0my_pred\u001b[0m \u001b[1;33m=\u001b[0m \u001b[0m_check_targets\u001b[0m\u001b[1;33m(\u001b[0m\u001b[0my_true\u001b[0m\u001b[1;33m,\u001b[0m \u001b[0my_pred\u001b[0m\u001b[1;33m)\u001b[0m\u001b[1;33m\u001b[0m\u001b[1;33m\u001b[0m\u001b[0m\n\u001b[0m\u001b[0;32m    277\u001b[0m     \u001b[1;32mif\u001b[0m \u001b[0my_type\u001b[0m \u001b[1;32mnot\u001b[0m \u001b[1;32min\u001b[0m \u001b[1;33m(\u001b[0m\u001b[1;34m\"binary\"\u001b[0m\u001b[1;33m,\u001b[0m \u001b[1;34m\"multiclass\"\u001b[0m\u001b[1;33m)\u001b[0m\u001b[1;33m:\u001b[0m\u001b[1;33m\u001b[0m\u001b[1;33m\u001b[0m\u001b[0m\n\u001b[0;32m    278\u001b[0m         \u001b[1;32mraise\u001b[0m \u001b[0mValueError\u001b[0m\u001b[1;33m(\u001b[0m\u001b[1;34m\"%s is not supported\"\u001b[0m \u001b[1;33m%\u001b[0m \u001b[0my_type\u001b[0m\u001b[1;33m)\u001b[0m\u001b[1;33m\u001b[0m\u001b[1;33m\u001b[0m\u001b[0m\n",
      "\u001b[1;32mC:\\ProgramData\\Anaconda3\\lib\\site-packages\\sklearn\\metrics\\_classification.py\u001b[0m in \u001b[0;36m_check_targets\u001b[1;34m(y_true, y_pred)\u001b[0m\n\u001b[0;32m     79\u001b[0m     \u001b[0my_pred\u001b[0m \u001b[1;33m:\u001b[0m \u001b[0marray\u001b[0m \u001b[1;32mor\u001b[0m \u001b[0mindicator\u001b[0m \u001b[0mmatrix\u001b[0m\u001b[1;33m\u001b[0m\u001b[1;33m\u001b[0m\u001b[0m\n\u001b[0;32m     80\u001b[0m     \"\"\"\n\u001b[1;32m---> 81\u001b[1;33m     \u001b[0mcheck_consistent_length\u001b[0m\u001b[1;33m(\u001b[0m\u001b[0my_true\u001b[0m\u001b[1;33m,\u001b[0m \u001b[0my_pred\u001b[0m\u001b[1;33m)\u001b[0m\u001b[1;33m\u001b[0m\u001b[1;33m\u001b[0m\u001b[0m\n\u001b[0m\u001b[0;32m     82\u001b[0m     \u001b[0mtype_true\u001b[0m \u001b[1;33m=\u001b[0m \u001b[0mtype_of_target\u001b[0m\u001b[1;33m(\u001b[0m\u001b[0my_true\u001b[0m\u001b[1;33m)\u001b[0m\u001b[1;33m\u001b[0m\u001b[1;33m\u001b[0m\u001b[0m\n\u001b[0;32m     83\u001b[0m     \u001b[0mtype_pred\u001b[0m \u001b[1;33m=\u001b[0m \u001b[0mtype_of_target\u001b[0m\u001b[1;33m(\u001b[0m\u001b[0my_pred\u001b[0m\u001b[1;33m)\u001b[0m\u001b[1;33m\u001b[0m\u001b[1;33m\u001b[0m\u001b[0m\n",
      "\u001b[1;32mC:\\ProgramData\\Anaconda3\\lib\\site-packages\\sklearn\\utils\\validation.py\u001b[0m in \u001b[0;36mcheck_consistent_length\u001b[1;34m(*arrays)\u001b[0m\n\u001b[0;32m    254\u001b[0m     \u001b[0muniques\u001b[0m \u001b[1;33m=\u001b[0m \u001b[0mnp\u001b[0m\u001b[1;33m.\u001b[0m\u001b[0munique\u001b[0m\u001b[1;33m(\u001b[0m\u001b[0mlengths\u001b[0m\u001b[1;33m)\u001b[0m\u001b[1;33m\u001b[0m\u001b[1;33m\u001b[0m\u001b[0m\n\u001b[0;32m    255\u001b[0m     \u001b[1;32mif\u001b[0m \u001b[0mlen\u001b[0m\u001b[1;33m(\u001b[0m\u001b[0muniques\u001b[0m\u001b[1;33m)\u001b[0m \u001b[1;33m>\u001b[0m \u001b[1;36m1\u001b[0m\u001b[1;33m:\u001b[0m\u001b[1;33m\u001b[0m\u001b[1;33m\u001b[0m\u001b[0m\n\u001b[1;32m--> 256\u001b[1;33m         raise ValueError(\"Found input variables with inconsistent numbers of\"\n\u001b[0m\u001b[0;32m    257\u001b[0m                          \" samples: %r\" % [int(l) for l in lengths])\n\u001b[0;32m    258\u001b[0m \u001b[1;33m\u001b[0m\u001b[0m\n",
      "\u001b[1;31mValueError\u001b[0m: Found input variables with inconsistent numbers of samples: [2000, 10000]"
     ]
    }
   ],
   "source": [
    "# Making a confusion matrix\n",
    "from sklearn.metrics import confusion_matrix\n",
    "cm = confusion_matrix(y_test, y_predict)"
   ]
  },
  {
   "cell_type": "code",
   "execution_count": null,
   "metadata": {},
   "outputs": [],
   "source": [
    "# Calculate the Accuracy\n",
    "from sklearn.metrics import accuracy_score\n",
    "# score = accuracy_score(y_predict,y_test)"
   ]
  }
 ],
 "metadata": {
  "kernelspec": {
   "display_name": "Python 3",
   "language": "python",
   "name": "python3"
  },
  "language_info": {
   "codemirror_mode": {
    "name": "ipython",
    "version": 3
   },
   "file_extension": ".py",
   "mimetype": "text/x-python",
   "name": "python",
   "nbconvert_exporter": "python",
   "pygments_lexer": "ipython3",
   "version": "3.8.3"
  }
 },
 "nbformat": 4,
 "nbformat_minor": 4
}
