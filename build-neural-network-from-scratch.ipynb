{
 "cells": [
  {
   "cell_type": "markdown",
   "metadata": {},
   "source": [
    "### Artificial Neural Network"
   ]
  },
  {
   "cell_type": "markdown",
   "metadata": {},
   "source": [
    "#### 1. Creating Dataset"
   ]
  },
  {
   "cell_type": "code",
   "execution_count": 1,
   "metadata": {},
   "outputs": [],
   "source": [
    "import numpy as np\n",
    "import matplotlib.pyplot as plt\n",
    "import pandas as pd"
   ]
  },
  {
   "cell_type": "code",
   "execution_count": 2,
   "metadata": {},
   "outputs": [],
   "source": [
    "# Importing Data Set\n",
    "dataset = pd.read_csv('Churn_Modelling.csv')\n",
    "x = dataset.iloc[:, 3:13] # Creating Independent Features\n",
    "y = dataset.iloc[:, 13] # Creating Dependent Feature"
   ]
  },
  {
   "cell_type": "code",
   "execution_count": 3,
   "metadata": {},
   "outputs": [
    {
     "data": {
      "text/html": [
       "<div>\n",
       "<style scoped>\n",
       "    .dataframe tbody tr th:only-of-type {\n",
       "        vertical-align: middle;\n",
       "    }\n",
       "\n",
       "    .dataframe tbody tr th {\n",
       "        vertical-align: top;\n",
       "    }\n",
       "\n",
       "    .dataframe thead th {\n",
       "        text-align: right;\n",
       "    }\n",
       "</style>\n",
       "<table border=\"1\" class=\"dataframe\">\n",
       "  <thead>\n",
       "    <tr style=\"text-align: right;\">\n",
       "      <th></th>\n",
       "      <th>RowNumber</th>\n",
       "      <th>CustomerId</th>\n",
       "      <th>Surname</th>\n",
       "      <th>CreditScore</th>\n",
       "      <th>Geography</th>\n",
       "      <th>Gender</th>\n",
       "      <th>Age</th>\n",
       "      <th>Tenure</th>\n",
       "      <th>Balance</th>\n",
       "      <th>NumOfProducts</th>\n",
       "      <th>HasCrCard</th>\n",
       "      <th>IsActiveMember</th>\n",
       "      <th>EstimatedSalary</th>\n",
       "      <th>Exited</th>\n",
       "    </tr>\n",
       "  </thead>\n",
       "  <tbody>\n",
       "    <tr>\n",
       "      <th>0</th>\n",
       "      <td>1</td>\n",
       "      <td>15634602</td>\n",
       "      <td>Hargrave</td>\n",
       "      <td>619</td>\n",
       "      <td>France</td>\n",
       "      <td>Female</td>\n",
       "      <td>42</td>\n",
       "      <td>2</td>\n",
       "      <td>0.00</td>\n",
       "      <td>1</td>\n",
       "      <td>1</td>\n",
       "      <td>1</td>\n",
       "      <td>101348.88</td>\n",
       "      <td>1</td>\n",
       "    </tr>\n",
       "    <tr>\n",
       "      <th>1</th>\n",
       "      <td>2</td>\n",
       "      <td>15647311</td>\n",
       "      <td>Hill</td>\n",
       "      <td>608</td>\n",
       "      <td>Spain</td>\n",
       "      <td>Female</td>\n",
       "      <td>41</td>\n",
       "      <td>1</td>\n",
       "      <td>83807.86</td>\n",
       "      <td>1</td>\n",
       "      <td>0</td>\n",
       "      <td>1</td>\n",
       "      <td>112542.58</td>\n",
       "      <td>0</td>\n",
       "    </tr>\n",
       "  </tbody>\n",
       "</table>\n",
       "</div>"
      ],
      "text/plain": [
       "   RowNumber  CustomerId   Surname  CreditScore Geography  Gender  Age  \\\n",
       "0          1    15634602  Hargrave          619    France  Female   42   \n",
       "1          2    15647311      Hill          608     Spain  Female   41   \n",
       "\n",
       "   Tenure   Balance  NumOfProducts  HasCrCard  IsActiveMember  \\\n",
       "0       2      0.00              1          1               1   \n",
       "1       1  83807.86              1          0               1   \n",
       "\n",
       "   EstimatedSalary  Exited  \n",
       "0        101348.88       1  \n",
       "1        112542.58       0  "
      ]
     },
     "execution_count": 3,
     "metadata": {},
     "output_type": "execute_result"
    }
   ],
   "source": [
    "dataset.head(2)"
   ]
  },
  {
   "cell_type": "code",
   "execution_count": 4,
   "metadata": {},
   "outputs": [
    {
     "data": {
      "text/plain": [
       "140000"
      ]
     },
     "execution_count": 4,
     "metadata": {},
     "output_type": "execute_result"
    }
   ],
   "source": [
    "dataset.size"
   ]
  },
  {
   "cell_type": "code",
   "execution_count": 5,
   "metadata": {},
   "outputs": [],
   "source": [
    "# Creating Dummy Dataset (Convert all the values to integer as 1,0)\n",
    "geography = pd.get_dummies(x[\"Geography\"],drop_first=True)\n",
    "gender = pd.get_dummies(x[\"Gender\"],drop_first=True)"
   ]
  },
  {
   "cell_type": "code",
   "execution_count": 6,
   "metadata": {},
   "outputs": [],
   "source": [
    "# Concatenate the 'geography and gender'\n",
    "x = pd.concat([x,geography,gender],axis=1)\n",
    "\n",
    "# Drop previous 'geography and gender'\n",
    "x = x.drop(['Geography','Gender'],axis=1)"
   ]
  },
  {
   "cell_type": "code",
   "execution_count": 7,
   "metadata": {},
   "outputs": [],
   "source": [
    "# Spliting data into training and testing\n",
    "from sklearn.model_selection import train_test_split\n",
    "x_train, x_test, y_train, y_test = train_test_split(x, y, test_size = 0.2, random_state = 0)"
   ]
  },
  {
   "cell_type": "code",
   "execution_count": 8,
   "metadata": {},
   "outputs": [],
   "source": [
    "# Feature Scaling\n",
    "from sklearn.preprocessing import StandardScaler\n",
    "sc = StandardScaler()\n",
    "x_train = sc.fit_transform(x_train)\n",
    "x_test = sc.transform(x_test)"
   ]
  },
  {
   "cell_type": "code",
   "execution_count": 9,
   "metadata": {},
   "outputs": [
    {
     "data": {
      "text/plain": [
       "2000"
      ]
     },
     "execution_count": 9,
     "metadata": {},
     "output_type": "execute_result"
    }
   ],
   "source": [
    "y_test.size"
   ]
  },
  {
   "cell_type": "markdown",
   "metadata": {},
   "source": [
    "#### 2. Create Artificial Neural Network"
   ]
  },
  {
   "cell_type": "code",
   "execution_count": 10,
   "metadata": {},
   "outputs": [],
   "source": [
    "# Import Keras Libraries and Packages\n",
    "import keras\n",
    "from keras.models import Sequential # Responsible in creating neural networks\n",
    "from keras.layers import Dense # Used to create hidden layers\n",
    "from keras.layers import LeakyReLU,PReLU,ELU # Activation Functions\n",
    "from keras.layers import Dropout # Regularization parameter"
   ]
  },
  {
   "cell_type": "code",
   "execution_count": 11,
   "metadata": {},
   "outputs": [],
   "source": [
    "# Initilize Sequential Function\n",
    "classifier = Sequential()"
   ]
  },
  {
   "cell_type": "code",
   "execution_count": 12,
   "metadata": {},
   "outputs": [],
   "source": [
    "# Adding the input layer and first hidden layer\n",
    "# input_dim = 11 because accoding to dataset 11 features are connected\n",
    "classifier.add(Dense(units = 6, kernel_initializer = 'he_uniform', activation = 'relu', input_dim = 11))"
   ]
  },
  {
   "cell_type": "code",
   "execution_count": 13,
   "metadata": {},
   "outputs": [],
   "source": [
    "# Adding the second hidden layer\n",
    "classifier.add(Dense(units = 6, kernel_initializer = 'he_uniform', activation = 'relu'))"
   ]
  },
  {
   "cell_type": "code",
   "execution_count": 14,
   "metadata": {},
   "outputs": [],
   "source": [
    "# Adding the output layer\n",
    "# units = output_dim = 1, because of binary classification\n",
    "classifier.add(Dense(units = 1, kernel_initializer = 'glorot_uniform', activation = 'sigmoid'))"
   ]
  },
  {
   "cell_type": "code",
   "execution_count": 15,
   "metadata": {},
   "outputs": [
    {
     "name": "stdout",
     "output_type": "stream",
     "text": [
      "Model: \"sequential\"\n",
      "_________________________________________________________________\n",
      "Layer (type)                 Output Shape              Param #   \n",
      "=================================================================\n",
      "dense (Dense)                (None, 6)                 72        \n",
      "_________________________________________________________________\n",
      "dense_1 (Dense)              (None, 6)                 42        \n",
      "_________________________________________________________________\n",
      "dense_2 (Dense)              (None, 1)                 7         \n",
      "=================================================================\n",
      "Total params: 121\n",
      "Trainable params: 121\n",
      "Non-trainable params: 0\n",
      "_________________________________________________________________\n"
     ]
    }
   ],
   "source": [
    "classifier.summary()"
   ]
  },
  {
   "cell_type": "code",
   "execution_count": 16,
   "metadata": {},
   "outputs": [],
   "source": [
    "# Compiling the artificial neural network\n",
    "classifier.compile(optimizer = 'adam', loss = 'binary_crossentropy', metrics = [\"accuracy\"])"
   ]
  },
  {
   "cell_type": "code",
   "execution_count": 17,
   "metadata": {},
   "outputs": [
    {
     "name": "stdout",
     "output_type": "stream",
     "text": [
      "Epoch 1/100\n",
      "  1/536 [..............................] - ETA: 0s - loss: 0.7868 - accuracy: 0.8000WARNING:tensorflow:Callbacks method `on_train_batch_end` is slow compared to the batch time (batch time: 0.0000s vs `on_train_batch_end` time: 0.0010s). Check your callbacks.\n",
      "536/536 [==============================] - 1s 1ms/step - loss: 0.5098 - accuracy: 0.7960 - val_loss: 0.4762 - val_accuracy: 0.7955\n",
      "Epoch 2/100\n",
      "536/536 [==============================] - 0s 797us/step - loss: 0.4642 - accuracy: 0.7962 - val_loss: 0.4554 - val_accuracy: 0.7955\n",
      "Epoch 3/100\n",
      "536/536 [==============================] - 0s 785us/step - loss: 0.4450 - accuracy: 0.7962 - val_loss: 0.4440 - val_accuracy: 0.7955\n",
      "Epoch 4/100\n",
      "536/536 [==============================] - 0s 744us/step - loss: 0.4338 - accuracy: 0.7962 - val_loss: 0.4364 - val_accuracy: 0.7955\n",
      "Epoch 5/100\n",
      "536/536 [==============================] - 0s 761us/step - loss: 0.4264 - accuracy: 0.7962 - val_loss: 0.4313 - val_accuracy: 0.7955\n",
      "Epoch 6/100\n",
      "536/536 [==============================] - 0s 782us/step - loss: 0.4206 - accuracy: 0.7962 - val_loss: 0.4279 - val_accuracy: 0.7955\n",
      "Epoch 7/100\n",
      "536/536 [==============================] - 0s 745us/step - loss: 0.4148 - accuracy: 0.8056 - val_loss: 0.4234 - val_accuracy: 0.8152\n",
      "Epoch 8/100\n",
      "536/536 [==============================] - 0s 762us/step - loss: 0.4098 - accuracy: 0.8233 - val_loss: 0.4196 - val_accuracy: 0.8183\n",
      "Epoch 9/100\n",
      "536/536 [==============================] - 0s 771us/step - loss: 0.4046 - accuracy: 0.8291 - val_loss: 0.4146 - val_accuracy: 0.8247\n",
      "Epoch 10/100\n",
      "536/536 [==============================] - 0s 771us/step - loss: 0.3996 - accuracy: 0.8350 - val_loss: 0.4096 - val_accuracy: 0.8273\n",
      "Epoch 11/100\n",
      "536/536 [==============================] - 0s 761us/step - loss: 0.3942 - accuracy: 0.8380 - val_loss: 0.4057 - val_accuracy: 0.8281\n",
      "Epoch 12/100\n",
      "536/536 [==============================] - 0s 762us/step - loss: 0.3893 - accuracy: 0.8405 - val_loss: 0.3997 - val_accuracy: 0.8307\n",
      "Epoch 13/100\n",
      "536/536 [==============================] - 0s 789us/step - loss: 0.3840 - accuracy: 0.8429 - val_loss: 0.3951 - val_accuracy: 0.8338\n",
      "Epoch 14/100\n",
      "536/536 [==============================] - 0s 812us/step - loss: 0.3793 - accuracy: 0.8464 - val_loss: 0.3917 - val_accuracy: 0.8379\n",
      "Epoch 15/100\n",
      "536/536 [==============================] - 0s 791us/step - loss: 0.3751 - accuracy: 0.8479 - val_loss: 0.3881 - val_accuracy: 0.8368\n",
      "Epoch 16/100\n",
      "536/536 [==============================] - 0s 782us/step - loss: 0.3707 - accuracy: 0.8531 - val_loss: 0.3856 - val_accuracy: 0.8425\n",
      "Epoch 17/100\n",
      "536/536 [==============================] - 0s 763us/step - loss: 0.3676 - accuracy: 0.8537 - val_loss: 0.3826 - val_accuracy: 0.8421\n",
      "Epoch 18/100\n",
      "536/536 [==============================] - 0s 775us/step - loss: 0.3646 - accuracy: 0.8554 - val_loss: 0.3803 - val_accuracy: 0.8429\n",
      "Epoch 19/100\n",
      "536/536 [==============================] - 0s 799us/step - loss: 0.3618 - accuracy: 0.8550 - val_loss: 0.3782 - val_accuracy: 0.8410\n",
      "Epoch 20/100\n",
      "536/536 [==============================] - 0s 762us/step - loss: 0.3585 - accuracy: 0.8567 - val_loss: 0.3765 - val_accuracy: 0.8455\n",
      "Epoch 21/100\n",
      "536/536 [==============================] - 0s 761us/step - loss: 0.3561 - accuracy: 0.8578 - val_loss: 0.3750 - val_accuracy: 0.8425\n",
      "Epoch 22/100\n",
      "536/536 [==============================] - 0s 775us/step - loss: 0.3540 - accuracy: 0.8593 - val_loss: 0.3737 - val_accuracy: 0.8470\n",
      "Epoch 23/100\n",
      "536/536 [==============================] - 0s 763us/step - loss: 0.3522 - accuracy: 0.8580 - val_loss: 0.3719 - val_accuracy: 0.8466\n",
      "Epoch 24/100\n",
      "536/536 [==============================] - 0s 762us/step - loss: 0.3503 - accuracy: 0.8576 - val_loss: 0.3716 - val_accuracy: 0.8470\n",
      "Epoch 25/100\n",
      "536/536 [==============================] - 0s 838us/step - loss: 0.3494 - accuracy: 0.8621 - val_loss: 0.3716 - val_accuracy: 0.8474\n",
      "Epoch 26/100\n",
      "536/536 [==============================] - 0s 860us/step - loss: 0.3482 - accuracy: 0.8602 - val_loss: 0.3689 - val_accuracy: 0.8489\n",
      "Epoch 27/100\n",
      "536/536 [==============================] - 0s 906us/step - loss: 0.3475 - accuracy: 0.8623 - val_loss: 0.3690 - val_accuracy: 0.8493\n",
      "Epoch 28/100\n",
      "536/536 [==============================] - 0s 783us/step - loss: 0.3464 - accuracy: 0.8614 - val_loss: 0.3672 - val_accuracy: 0.8485\n",
      "Epoch 29/100\n",
      "536/536 [==============================] - 0s 794us/step - loss: 0.3454 - accuracy: 0.8606 - val_loss: 0.3669 - val_accuracy: 0.8485\n",
      "Epoch 30/100\n",
      "536/536 [==============================] - 0s 799us/step - loss: 0.3445 - accuracy: 0.8599 - val_loss: 0.3665 - val_accuracy: 0.8504\n",
      "Epoch 31/100\n",
      "536/536 [==============================] - 0s 764us/step - loss: 0.3442 - accuracy: 0.8612 - val_loss: 0.3666 - val_accuracy: 0.8482\n",
      "Epoch 32/100\n",
      "536/536 [==============================] - 0s 835us/step - loss: 0.3436 - accuracy: 0.8619 - val_loss: 0.3666 - val_accuracy: 0.8485\n",
      "Epoch 33/100\n",
      "536/536 [==============================] - 0s 782us/step - loss: 0.3432 - accuracy: 0.8627 - val_loss: 0.3663 - val_accuracy: 0.8504\n",
      "Epoch 34/100\n",
      "536/536 [==============================] - 0s 760us/step - loss: 0.3422 - accuracy: 0.8636 - val_loss: 0.3665 - val_accuracy: 0.8474\n",
      "Epoch 35/100\n",
      "536/536 [==============================] - 0s 785us/step - loss: 0.3418 - accuracy: 0.8628 - val_loss: 0.3654 - val_accuracy: 0.8493\n",
      "Epoch 36/100\n",
      "536/536 [==============================] - 0s 780us/step - loss: 0.3416 - accuracy: 0.8617 - val_loss: 0.3655 - val_accuracy: 0.8489\n",
      "Epoch 37/100\n",
      "536/536 [==============================] - 0s 788us/step - loss: 0.3411 - accuracy: 0.8638 - val_loss: 0.3662 - val_accuracy: 0.8493\n",
      "Epoch 38/100\n",
      "536/536 [==============================] - 0s 804us/step - loss: 0.3412 - accuracy: 0.8632 - val_loss: 0.3648 - val_accuracy: 0.8504\n",
      "Epoch 39/100\n",
      "536/536 [==============================] - 0s 801us/step - loss: 0.3397 - accuracy: 0.8642 - val_loss: 0.3658 - val_accuracy: 0.8504\n",
      "Epoch 40/100\n",
      "536/536 [==============================] - 0s 790us/step - loss: 0.3403 - accuracy: 0.8627 - val_loss: 0.3648 - val_accuracy: 0.8512\n",
      "Epoch 41/100\n",
      "536/536 [==============================] - 0s 761us/step - loss: 0.3403 - accuracy: 0.8628 - val_loss: 0.3638 - val_accuracy: 0.8497\n",
      "Epoch 42/100\n",
      "536/536 [==============================] - 0s 783us/step - loss: 0.3394 - accuracy: 0.8632 - val_loss: 0.3626 - val_accuracy: 0.8523\n",
      "Epoch 43/100\n",
      "536/536 [==============================] - 0s 766us/step - loss: 0.3390 - accuracy: 0.8634 - val_loss: 0.3621 - val_accuracy: 0.8519\n",
      "Epoch 44/100\n",
      "536/536 [==============================] - 0s 773us/step - loss: 0.3383 - accuracy: 0.8636 - val_loss: 0.3624 - val_accuracy: 0.8527\n",
      "Epoch 45/100\n",
      "536/536 [==============================] - 0s 766us/step - loss: 0.3394 - accuracy: 0.8638 - val_loss: 0.3614 - val_accuracy: 0.8512\n",
      "Epoch 46/100\n",
      "536/536 [==============================] - 0s 789us/step - loss: 0.3380 - accuracy: 0.8625 - val_loss: 0.3599 - val_accuracy: 0.8535\n",
      "Epoch 47/100\n",
      "536/536 [==============================] - 0s 798us/step - loss: 0.3383 - accuracy: 0.8612 - val_loss: 0.3615 - val_accuracy: 0.8527\n",
      "Epoch 48/100\n",
      "536/536 [==============================] - 0s 757us/step - loss: 0.3384 - accuracy: 0.8619 - val_loss: 0.3607 - val_accuracy: 0.8523\n",
      "Epoch 49/100\n",
      "536/536 [==============================] - 0s 794us/step - loss: 0.3376 - accuracy: 0.8621 - val_loss: 0.3611 - val_accuracy: 0.8523\n",
      "Epoch 50/100\n",
      "536/536 [==============================] - 0s 783us/step - loss: 0.3380 - accuracy: 0.8623 - val_loss: 0.3607 - val_accuracy: 0.8504\n",
      "Epoch 51/100\n",
      "536/536 [==============================] - 0s 762us/step - loss: 0.3375 - accuracy: 0.8636 - val_loss: 0.3615 - val_accuracy: 0.8527\n",
      "Epoch 52/100\n",
      "536/536 [==============================] - 0s 805us/step - loss: 0.3374 - accuracy: 0.8630 - val_loss: 0.3606 - val_accuracy: 0.8527\n",
      "Epoch 53/100\n",
      "536/536 [==============================] - 0s 791us/step - loss: 0.3372 - accuracy: 0.8643 - val_loss: 0.3598 - val_accuracy: 0.8538\n",
      "Epoch 54/100\n",
      "536/536 [==============================] - 0s 774us/step - loss: 0.3370 - accuracy: 0.8636 - val_loss: 0.3610 - val_accuracy: 0.8546\n",
      "Epoch 55/100\n"
     ]
    },
    {
     "name": "stdout",
     "output_type": "stream",
     "text": [
      "536/536 [==============================] - 0s 753us/step - loss: 0.3364 - accuracy: 0.8642 - val_loss: 0.3614 - val_accuracy: 0.8550\n",
      "Epoch 56/100\n",
      "536/536 [==============================] - 0s 754us/step - loss: 0.3369 - accuracy: 0.8627 - val_loss: 0.3594 - val_accuracy: 0.8546\n",
      "Epoch 57/100\n",
      "536/536 [==============================] - 0s 746us/step - loss: 0.3361 - accuracy: 0.8640 - val_loss: 0.3581 - val_accuracy: 0.8516\n",
      "Epoch 58/100\n",
      "536/536 [==============================] - 0s 749us/step - loss: 0.3368 - accuracy: 0.8647 - val_loss: 0.3602 - val_accuracy: 0.8527\n",
      "Epoch 59/100\n",
      "536/536 [==============================] - 0s 750us/step - loss: 0.3360 - accuracy: 0.8625 - val_loss: 0.3594 - val_accuracy: 0.8550\n",
      "Epoch 60/100\n",
      "536/536 [==============================] - 0s 744us/step - loss: 0.3363 - accuracy: 0.8632 - val_loss: 0.3578 - val_accuracy: 0.8527\n",
      "Epoch 61/100\n",
      "536/536 [==============================] - 0s 760us/step - loss: 0.3361 - accuracy: 0.8655 - val_loss: 0.3596 - val_accuracy: 0.8557\n",
      "Epoch 62/100\n",
      "536/536 [==============================] - 0s 747us/step - loss: 0.3362 - accuracy: 0.8638 - val_loss: 0.3593 - val_accuracy: 0.8550\n",
      "Epoch 63/100\n",
      "536/536 [==============================] - 0s 746us/step - loss: 0.3354 - accuracy: 0.8634 - val_loss: 0.3584 - val_accuracy: 0.8542\n",
      "Epoch 64/100\n",
      "536/536 [==============================] - 0s 853us/step - loss: 0.3354 - accuracy: 0.8615 - val_loss: 0.3583 - val_accuracy: 0.8557\n",
      "Epoch 65/100\n",
      "536/536 [==============================] - 0s 931us/step - loss: 0.3354 - accuracy: 0.8627 - val_loss: 0.3578 - val_accuracy: 0.8565\n",
      "Epoch 66/100\n",
      "536/536 [==============================] - 0s 772us/step - loss: 0.3351 - accuracy: 0.8651 - val_loss: 0.3582 - val_accuracy: 0.8546\n",
      "Epoch 67/100\n",
      "536/536 [==============================] - 0s 760us/step - loss: 0.3353 - accuracy: 0.8630 - val_loss: 0.3566 - val_accuracy: 0.8546\n",
      "Epoch 68/100\n",
      "536/536 [==============================] - 0s 786us/step - loss: 0.3352 - accuracy: 0.8642 - val_loss: 0.3573 - val_accuracy: 0.8550\n",
      "Epoch 69/100\n",
      "536/536 [==============================] - 0s 750us/step - loss: 0.3348 - accuracy: 0.8645 - val_loss: 0.3574 - val_accuracy: 0.8561\n",
      "Epoch 70/100\n",
      "536/536 [==============================] - 0s 803us/step - loss: 0.3348 - accuracy: 0.8630 - val_loss: 0.3561 - val_accuracy: 0.8550\n",
      "Epoch 71/100\n",
      "536/536 [==============================] - 0s 787us/step - loss: 0.3349 - accuracy: 0.8655 - val_loss: 0.3574 - val_accuracy: 0.8561\n",
      "Epoch 72/100\n",
      "536/536 [==============================] - 0s 794us/step - loss: 0.3345 - accuracy: 0.8636 - val_loss: 0.3563 - val_accuracy: 0.8557\n",
      "Epoch 73/100\n",
      "536/536 [==============================] - 0s 818us/step - loss: 0.3347 - accuracy: 0.8653 - val_loss: 0.3572 - val_accuracy: 0.8554\n",
      "Epoch 74/100\n",
      "536/536 [==============================] - 0s 816us/step - loss: 0.3337 - accuracy: 0.8634 - val_loss: 0.3555 - val_accuracy: 0.8584\n",
      "Epoch 75/100\n",
      "536/536 [==============================] - 0s 786us/step - loss: 0.3342 - accuracy: 0.8634 - val_loss: 0.3566 - val_accuracy: 0.8554\n",
      "Epoch 76/100\n",
      "536/536 [==============================] - 0s 878us/step - loss: 0.3344 - accuracy: 0.8627 - val_loss: 0.3566 - val_accuracy: 0.8565\n",
      "Epoch 77/100\n",
      "536/536 [==============================] - 0s 775us/step - loss: 0.3339 - accuracy: 0.8640 - val_loss: 0.3566 - val_accuracy: 0.8580\n",
      "Epoch 78/100\n",
      "536/536 [==============================] - 0s 783us/step - loss: 0.3339 - accuracy: 0.8645 - val_loss: 0.3576 - val_accuracy: 0.8569\n",
      "Epoch 79/100\n",
      "536/536 [==============================] - 0s 792us/step - loss: 0.3339 - accuracy: 0.8643 - val_loss: 0.3555 - val_accuracy: 0.8565\n",
      "Epoch 80/100\n",
      "536/536 [==============================] - 0s 771us/step - loss: 0.3339 - accuracy: 0.8642 - val_loss: 0.3561 - val_accuracy: 0.8554\n",
      "Epoch 81/100\n",
      "536/536 [==============================] - 0s 786us/step - loss: 0.3339 - accuracy: 0.8668 - val_loss: 0.3567 - val_accuracy: 0.8557\n",
      "Epoch 82/100\n",
      "536/536 [==============================] - 0s 759us/step - loss: 0.3340 - accuracy: 0.8647 - val_loss: 0.3566 - val_accuracy: 0.8565\n",
      "Epoch 83/100\n",
      "536/536 [==============================] - 0s 774us/step - loss: 0.3337 - accuracy: 0.8655 - val_loss: 0.3565 - val_accuracy: 0.8573\n",
      "Epoch 84/100\n",
      "536/536 [==============================] - 0s 777us/step - loss: 0.3337 - accuracy: 0.8640 - val_loss: 0.3546 - val_accuracy: 0.8576\n",
      "Epoch 85/100\n",
      "536/536 [==============================] - 0s 915us/step - loss: 0.3337 - accuracy: 0.8645 - val_loss: 0.3554 - val_accuracy: 0.8550\n",
      "Epoch 86/100\n",
      "536/536 [==============================] - 0s 865us/step - loss: 0.3333 - accuracy: 0.8655 - val_loss: 0.3560 - val_accuracy: 0.8561\n",
      "Epoch 87/100\n",
      "536/536 [==============================] - 0s 771us/step - loss: 0.3327 - accuracy: 0.8679 - val_loss: 0.3565 - val_accuracy: 0.8580\n",
      "Epoch 88/100\n",
      "536/536 [==============================] - 0s 765us/step - loss: 0.3336 - accuracy: 0.8640 - val_loss: 0.3560 - val_accuracy: 0.8569\n",
      "Epoch 89/100\n",
      "536/536 [==============================] - 0s 749us/step - loss: 0.3333 - accuracy: 0.8638 - val_loss: 0.3549 - val_accuracy: 0.8538\n",
      "Epoch 90/100\n",
      "536/536 [==============================] - 0s 780us/step - loss: 0.3332 - accuracy: 0.8632 - val_loss: 0.3562 - val_accuracy: 0.8576\n",
      "Epoch 91/100\n",
      "536/536 [==============================] - 0s 747us/step - loss: 0.3329 - accuracy: 0.8643 - val_loss: 0.3563 - val_accuracy: 0.8554\n",
      "Epoch 92/100\n",
      "536/536 [==============================] - 0s 769us/step - loss: 0.3333 - accuracy: 0.8640 - val_loss: 0.3561 - val_accuracy: 0.8580\n",
      "Epoch 93/100\n",
      "536/536 [==============================] - 0s 765us/step - loss: 0.3334 - accuracy: 0.8627 - val_loss: 0.3550 - val_accuracy: 0.8554\n",
      "Epoch 94/100\n",
      "536/536 [==============================] - 0s 761us/step - loss: 0.3323 - accuracy: 0.8649 - val_loss: 0.3559 - val_accuracy: 0.8550\n",
      "Epoch 95/100\n",
      "536/536 [==============================] - 0s 761us/step - loss: 0.3331 - accuracy: 0.8653 - val_loss: 0.3560 - val_accuracy: 0.8573\n",
      "Epoch 96/100\n",
      "536/536 [==============================] - 0s 859us/step - loss: 0.3331 - accuracy: 0.8651 - val_loss: 0.3562 - val_accuracy: 0.8573\n",
      "Epoch 97/100\n",
      "536/536 [==============================] - 0s 834us/step - loss: 0.3331 - accuracy: 0.8642 - val_loss: 0.3553 - val_accuracy: 0.8576\n",
      "Epoch 98/100\n",
      "536/536 [==============================] - 0s 822us/step - loss: 0.3329 - accuracy: 0.8640 - val_loss: 0.3558 - val_accuracy: 0.8565\n",
      "Epoch 99/100\n",
      "536/536 [==============================] - 0s 752us/step - loss: 0.3325 - accuracy: 0.8649 - val_loss: 0.3561 - val_accuracy: 0.8565\n",
      "Epoch 100/100\n",
      "536/536 [==============================] - 0s 781us/step - loss: 0.3327 - accuracy: 0.8642 - val_loss: 0.3569 - val_accuracy: 0.8557\n"
     ]
    }
   ],
   "source": [
    "# Fitting the neural network to the training dataset\n",
    "# nb_epoch ---> epochs (Updated!)\n",
    "model_history = classifier.fit(x_train, y_train, validation_split = 0.33, batch_size = 10, epochs = 100)"
   ]
  },
  {
   "cell_type": "markdown",
   "metadata": {},
   "source": [
    "#### Making Prediction and Evaluate the model"
   ]
  },
  {
   "cell_type": "code",
   "execution_count": 18,
   "metadata": {},
   "outputs": [],
   "source": [
    "y_predict = classifier.predict(x_test)\n",
    "y_predict = (y > 0.5)"
   ]
  },
  {
   "cell_type": "code",
   "execution_count": 19,
   "metadata": {},
   "outputs": [
    {
     "data": {
      "text/plain": [
       "0        True\n",
       "1       False\n",
       "2        True\n",
       "3       False\n",
       "4       False\n",
       "        ...  \n",
       "9995    False\n",
       "9996    False\n",
       "9997     True\n",
       "9998     True\n",
       "9999    False\n",
       "Name: Exited, Length: 10000, dtype: bool"
      ]
     },
     "execution_count": 19,
     "metadata": {},
     "output_type": "execute_result"
    }
   ],
   "source": [
    "y_predict"
   ]
  },
  {
   "cell_type": "code",
   "execution_count": 23,
   "metadata": {},
   "outputs": [
    {
     "ename": "ValueError",
     "evalue": "Found input variables with inconsistent numbers of samples: [2000, 10000]",
     "output_type": "error",
     "traceback": [
      "\u001b[1;31m---------------------------------------------------------------------------\u001b[0m",
      "\u001b[1;31mValueError\u001b[0m                                Traceback (most recent call last)",
      "\u001b[1;32m<ipython-input-23-262f50df99c5>\u001b[0m in \u001b[0;36m<module>\u001b[1;34m\u001b[0m\n\u001b[0;32m      1\u001b[0m \u001b[1;31m# Making a confusion matrix\u001b[0m\u001b[1;33m\u001b[0m\u001b[1;33m\u001b[0m\u001b[1;33m\u001b[0m\u001b[0m\n\u001b[0;32m      2\u001b[0m \u001b[1;32mfrom\u001b[0m \u001b[0msklearn\u001b[0m\u001b[1;33m.\u001b[0m\u001b[0mmetrics\u001b[0m \u001b[1;32mimport\u001b[0m \u001b[0mconfusion_matrix\u001b[0m\u001b[1;33m\u001b[0m\u001b[1;33m\u001b[0m\u001b[0m\n\u001b[1;32m----> 3\u001b[1;33m \u001b[0mcm\u001b[0m \u001b[1;33m=\u001b[0m  \u001b[0mconfusion_matrix\u001b[0m\u001b[1;33m(\u001b[0m\u001b[0my_test\u001b[0m\u001b[1;33m,\u001b[0m\u001b[0my_predict\u001b[0m\u001b[1;33m)\u001b[0m\u001b[1;33m\u001b[0m\u001b[1;33m\u001b[0m\u001b[0m\n\u001b[0m",
      "\u001b[1;32mC:\\ProgramData\\Anaconda3\\lib\\site-packages\\sklearn\\utils\\validation.py\u001b[0m in \u001b[0;36minner_f\u001b[1;34m(*args, **kwargs)\u001b[0m\n\u001b[0;32m     71\u001b[0m                           FutureWarning)\n\u001b[0;32m     72\u001b[0m         \u001b[0mkwargs\u001b[0m\u001b[1;33m.\u001b[0m\u001b[0mupdate\u001b[0m\u001b[1;33m(\u001b[0m\u001b[1;33m{\u001b[0m\u001b[0mk\u001b[0m\u001b[1;33m:\u001b[0m \u001b[0marg\u001b[0m \u001b[1;32mfor\u001b[0m \u001b[0mk\u001b[0m\u001b[1;33m,\u001b[0m \u001b[0marg\u001b[0m \u001b[1;32min\u001b[0m \u001b[0mzip\u001b[0m\u001b[1;33m(\u001b[0m\u001b[0msig\u001b[0m\u001b[1;33m.\u001b[0m\u001b[0mparameters\u001b[0m\u001b[1;33m,\u001b[0m \u001b[0margs\u001b[0m\u001b[1;33m)\u001b[0m\u001b[1;33m}\u001b[0m\u001b[1;33m)\u001b[0m\u001b[1;33m\u001b[0m\u001b[1;33m\u001b[0m\u001b[0m\n\u001b[1;32m---> 73\u001b[1;33m         \u001b[1;32mreturn\u001b[0m \u001b[0mf\u001b[0m\u001b[1;33m(\u001b[0m\u001b[1;33m**\u001b[0m\u001b[0mkwargs\u001b[0m\u001b[1;33m)\u001b[0m\u001b[1;33m\u001b[0m\u001b[1;33m\u001b[0m\u001b[0m\n\u001b[0m\u001b[0;32m     74\u001b[0m     \u001b[1;32mreturn\u001b[0m \u001b[0minner_f\u001b[0m\u001b[1;33m\u001b[0m\u001b[1;33m\u001b[0m\u001b[0m\n\u001b[0;32m     75\u001b[0m \u001b[1;33m\u001b[0m\u001b[0m\n",
      "\u001b[1;32mC:\\ProgramData\\Anaconda3\\lib\\site-packages\\sklearn\\metrics\\_classification.py\u001b[0m in \u001b[0;36mconfusion_matrix\u001b[1;34m(y_true, y_pred, labels, sample_weight, normalize)\u001b[0m\n\u001b[0;32m    274\u001b[0m \u001b[1;33m\u001b[0m\u001b[0m\n\u001b[0;32m    275\u001b[0m     \"\"\"\n\u001b[1;32m--> 276\u001b[1;33m     \u001b[0my_type\u001b[0m\u001b[1;33m,\u001b[0m \u001b[0my_true\u001b[0m\u001b[1;33m,\u001b[0m \u001b[0my_pred\u001b[0m \u001b[1;33m=\u001b[0m \u001b[0m_check_targets\u001b[0m\u001b[1;33m(\u001b[0m\u001b[0my_true\u001b[0m\u001b[1;33m,\u001b[0m \u001b[0my_pred\u001b[0m\u001b[1;33m)\u001b[0m\u001b[1;33m\u001b[0m\u001b[1;33m\u001b[0m\u001b[0m\n\u001b[0m\u001b[0;32m    277\u001b[0m     \u001b[1;32mif\u001b[0m \u001b[0my_type\u001b[0m \u001b[1;32mnot\u001b[0m \u001b[1;32min\u001b[0m \u001b[1;33m(\u001b[0m\u001b[1;34m\"binary\"\u001b[0m\u001b[1;33m,\u001b[0m \u001b[1;34m\"multiclass\"\u001b[0m\u001b[1;33m)\u001b[0m\u001b[1;33m:\u001b[0m\u001b[1;33m\u001b[0m\u001b[1;33m\u001b[0m\u001b[0m\n\u001b[0;32m    278\u001b[0m         \u001b[1;32mraise\u001b[0m \u001b[0mValueError\u001b[0m\u001b[1;33m(\u001b[0m\u001b[1;34m\"%s is not supported\"\u001b[0m \u001b[1;33m%\u001b[0m \u001b[0my_type\u001b[0m\u001b[1;33m)\u001b[0m\u001b[1;33m\u001b[0m\u001b[1;33m\u001b[0m\u001b[0m\n",
      "\u001b[1;32mC:\\ProgramData\\Anaconda3\\lib\\site-packages\\sklearn\\metrics\\_classification.py\u001b[0m in \u001b[0;36m_check_targets\u001b[1;34m(y_true, y_pred)\u001b[0m\n\u001b[0;32m     79\u001b[0m     \u001b[0my_pred\u001b[0m \u001b[1;33m:\u001b[0m \u001b[0marray\u001b[0m \u001b[1;32mor\u001b[0m \u001b[0mindicator\u001b[0m \u001b[0mmatrix\u001b[0m\u001b[1;33m\u001b[0m\u001b[1;33m\u001b[0m\u001b[0m\n\u001b[0;32m     80\u001b[0m     \"\"\"\n\u001b[1;32m---> 81\u001b[1;33m     \u001b[0mcheck_consistent_length\u001b[0m\u001b[1;33m(\u001b[0m\u001b[0my_true\u001b[0m\u001b[1;33m,\u001b[0m \u001b[0my_pred\u001b[0m\u001b[1;33m)\u001b[0m\u001b[1;33m\u001b[0m\u001b[1;33m\u001b[0m\u001b[0m\n\u001b[0m\u001b[0;32m     82\u001b[0m     \u001b[0mtype_true\u001b[0m \u001b[1;33m=\u001b[0m \u001b[0mtype_of_target\u001b[0m\u001b[1;33m(\u001b[0m\u001b[0my_true\u001b[0m\u001b[1;33m)\u001b[0m\u001b[1;33m\u001b[0m\u001b[1;33m\u001b[0m\u001b[0m\n\u001b[0;32m     83\u001b[0m     \u001b[0mtype_pred\u001b[0m \u001b[1;33m=\u001b[0m \u001b[0mtype_of_target\u001b[0m\u001b[1;33m(\u001b[0m\u001b[0my_pred\u001b[0m\u001b[1;33m)\u001b[0m\u001b[1;33m\u001b[0m\u001b[1;33m\u001b[0m\u001b[0m\n",
      "\u001b[1;32mC:\\ProgramData\\Anaconda3\\lib\\site-packages\\sklearn\\utils\\validation.py\u001b[0m in \u001b[0;36mcheck_consistent_length\u001b[1;34m(*arrays)\u001b[0m\n\u001b[0;32m    254\u001b[0m     \u001b[0muniques\u001b[0m \u001b[1;33m=\u001b[0m \u001b[0mnp\u001b[0m\u001b[1;33m.\u001b[0m\u001b[0munique\u001b[0m\u001b[1;33m(\u001b[0m\u001b[0mlengths\u001b[0m\u001b[1;33m)\u001b[0m\u001b[1;33m\u001b[0m\u001b[1;33m\u001b[0m\u001b[0m\n\u001b[0;32m    255\u001b[0m     \u001b[1;32mif\u001b[0m \u001b[0mlen\u001b[0m\u001b[1;33m(\u001b[0m\u001b[0muniques\u001b[0m\u001b[1;33m)\u001b[0m \u001b[1;33m>\u001b[0m \u001b[1;36m1\u001b[0m\u001b[1;33m:\u001b[0m\u001b[1;33m\u001b[0m\u001b[1;33m\u001b[0m\u001b[0m\n\u001b[1;32m--> 256\u001b[1;33m         raise ValueError(\"Found input variables with inconsistent numbers of\"\n\u001b[0m\u001b[0;32m    257\u001b[0m                          \" samples: %r\" % [int(l) for l in lengths])\n\u001b[0;32m    258\u001b[0m \u001b[1;33m\u001b[0m\u001b[0m\n",
      "\u001b[1;31mValueError\u001b[0m: Found input variables with inconsistent numbers of samples: [2000, 10000]"
     ]
    }
   ],
   "source": [
    "# Making a confusion matrix\n",
    "from sklearn.metrics import confusion_matrix\n",
    "cm =  confusion_matrix(y_test,y_predict)"
   ]
  },
  {
   "cell_type": "code",
   "execution_count": 22,
   "metadata": {},
   "outputs": [],
   "source": [
    "# Calculate the Accuracy\n",
    "from sklearn.metrics import accuracy_score\n",
    "# score = accuracy_score(y_predict,y_test)"
   ]
  }
 ],
 "metadata": {
  "kernelspec": {
   "display_name": "Python 3",
   "language": "python",
   "name": "python3"
  },
  "language_info": {
   "codemirror_mode": {
    "name": "ipython",
    "version": 3
   },
   "file_extension": ".py",
   "mimetype": "text/x-python",
   "name": "python",
   "nbconvert_exporter": "python",
   "pygments_lexer": "ipython3",
   "version": "3.8.3"
  }
 },
 "nbformat": 4,
 "nbformat_minor": 4
}
